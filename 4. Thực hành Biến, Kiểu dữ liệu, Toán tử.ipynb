{
 "cells": [
  {
   "cell_type": "markdown",
   "id": "e34441c0",
   "metadata": {},
   "source": [
    "## Bài 1\n",
    "Viết chương trình nhập vào 2 số nguyên `num1` và `num2`. In ra tích của 2 số nguyên đó."
   ]
  },
  {
   "cell_type": "markdown",
   "id": "75d47334",
   "metadata": {},
   "source": [
    "num1 = int(input(\"Nhập vào số nguyên thứ nhất: \"))\n",
    "num2 = int(input(\"Nhập vào số nguyên thứ hai: \"))\n",
    "print(\"Tích của hai số {} và {} là: {}\".format(num1, num2, num1*num2))"
   ]
  },
  {
   "cell_type": "markdown",
   "id": "50bd0974",
   "metadata": {},
   "source": [
    "## Bài 2 \n",
    "Nhập vào ba biến `diem_toan`, `diem_ly`, `diem_hoa` và in ra điểm trung bình của ba môn học trên."
   ]
  },
  {
   "cell_type": "code",
   "execution_count": 4,
   "id": "9c8e9b08",
   "metadata": {},
   "outputs": [
    {
     "name": "stdout",
     "output_type": "stream",
     "text": [
      "Nhập vào điểm môn Toán: 7\n",
      "Nhập vào điểm môn Lý: 6\n",
      "Nhập vào điểm môn Hóa: 8.5\n",
      "Điểm trung bình của ba môn Toán Lý Hóa là: 7.166666666666667\n"
     ]
    }
   ],
   "source": [
    "diem_toan = float(input(\"Nhập vào điểm môn Toán: \"))\n",
    "diem_ly = float(input(\"Nhập vào điểm môn Lý: \"))\n",
    "diem_hoa = float(input(\"Nhập vào điểm môn Hóa: \"))\n",
    "print(\"Điểm trung bình của ba môn Toán Lý Hóa là: {}\".format((diem_toan + diem_ly + diem_hoa)/3))"
   ]
  },
  {
   "cell_type": "markdown",
   "id": "bed4bcbd",
   "metadata": {},
   "source": [
    "## Bài 3\n",
    "Nhập vào vận tốc của đoàn tàu theo đơn vị km/h.\n",
    "\n",
    "a. Hỏi trung bình mỗi phút đoàn tàu đi được bao nhiêu mét?\n",
    "\n",
    "b. Sau 1 giờ 12 phút đoàn tàu đi được bao nhiêu km?"
   ]
  },
  {
   "cell_type": "code",
   "execution_count": 8,
   "id": "5e1e4a93",
   "metadata": {},
   "outputs": [
    {
     "name": "stdout",
     "output_type": "stream",
     "text": [
      "Nhập vào vận tốc của đoàn tàu theo đơn vị km/h: 60\n",
      "a. Trung bình mỗi phút đoàn tàu đi được 1000.0 mét\n",
      "b. Sau 1 giờ 12 phút đoàn tàu đi được 72.0 km\n"
     ]
    }
   ],
   "source": [
    "van_toc = float(input(\"Nhập vào vận tốc của đoàn tàu theo đơn vị km/h: \"))\n",
    "quang_duong_mot_phut = van_toc*1*1000/60\n",
    "quang_duong = van_toc*1.2\n",
    "print(\"a. Trung bình mỗi phút đoàn tàu đi được {} mét\".format(quang_duong_mot_phut))\n",
    "print(\"b. Sau 1 giờ 12 phút đoàn tàu đi được {} km\".format(quang_duong))"
   ]
  }
 ],
 "metadata": {
  "kernelspec": {
   "display_name": "Python 3 (ipykernel)",
   "language": "python",
   "name": "python3"
  },
  "language_info": {
   "codemirror_mode": {
    "name": "ipython",
    "version": 3
   },
   "file_extension": ".py",
   "mimetype": "text/x-python",
   "name": "python",
   "nbconvert_exporter": "python",
   "pygments_lexer": "ipython3",
   "version": "3.11.5"
  }
 },
 "nbformat": 4,
 "nbformat_minor": 5
}
